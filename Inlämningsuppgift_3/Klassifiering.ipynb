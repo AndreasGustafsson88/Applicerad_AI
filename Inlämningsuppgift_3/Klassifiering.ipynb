{
 "cells": [
  {
   "cell_type": "code",
   "execution_count": 1,
   "metadata": {},
   "outputs": [],
   "source": [
    "import torch\n",
    "import torchvision\n",
    "import torch.nn as nn\n",
    "import seaborn as sns\n",
    "import pandas as pd\n",
    "import os\n",
    "import numpy as np\n",
    "import torchvision.transforms as transforms\n",
    "import matplotlib.pyplot as plt\n"
   ]
  },
  {
   "cell_type": "code",
   "execution_count": 2,
   "metadata": {},
   "outputs": [],
   "source": [
    "from torch.utils.data.sampler import SubsetRandomSampler\n",
    "\n",
    "# Device configuration\n",
    "device = torch.device('cuda' if torch.cuda.is_available() else 'cpu')\n",
    "\n",
    "# MNIST dataset \n",
    "train_dataset = torchvision.datasets.MNIST(root='./data', \n",
    "                                           train=True, \n",
    "                                           transform=transforms.ToTensor(),  \n",
    "                                           download=True)\n",
    "\n",
    "test_dataset = torchvision.datasets.MNIST(root='./data', \n",
    "                                          train=False, \n",
    "                                          transform=transforms.ToTensor(),\n",
    "                                          download=True)\n",
    "\n"
   ]
  },
  {
   "cell_type": "code",
   "execution_count": 3,
   "metadata": {},
   "outputs": [],
   "source": [
    "# Create val dataset\n",
    "val_size = 0.2\n",
    "np.random.seed(42)\n",
    "idxs = np.random.permutation(len(train_dataset))\n",
    "val_idxs, train_idxs = idxs[: int(len(train_dataset) * val_size)], idxs[int(len(train_dataset) * val_size):]\n",
    "val_sampler = SubsetRandomSampler(val_idxs)\n",
    "train_sampler = SubsetRandomSampler(train_idxs)"
   ]
  },
  {
   "cell_type": "code",
   "execution_count": 4,
   "metadata": {},
   "outputs": [
    {
     "name": "stdout",
     "output_type": "stream",
     "text": [
      "60000\n",
      "2\n",
      "torch.Size([1, 28, 28])\n",
      "5\n"
     ]
    }
   ],
   "source": [
    "print(len(train_dataset))\n",
    "print(len(train_dataset[0]))\n",
    "print(train_dataset[0][0].shape)\n",
    "print(train_dataset[0][1])"
   ]
  },
  {
   "cell_type": "code",
   "execution_count": 5,
   "metadata": {},
   "outputs": [
    {
     "name": "stdout",
     "output_type": "stream",
     "text": [
      "[0 1 2 3 4 5 6 7 8 9]\n"
     ]
    }
   ],
   "source": [
    "labels = np.array([x[1] for x in test_dataset])\n",
    "print(np.unique(labels))"
   ]
  },
  {
   "cell_type": "code",
   "execution_count": 6,
   "metadata": {},
   "outputs": [],
   "source": [
    "from functools import reduce\n",
    "\n",
    "model_setting = {\n",
    "    'input_size': reduce(lambda a, b: a*b, train_dataset[0][0].shape),  # 784\n",
    "    'hidden_size_1': 500,\n",
    "    'hidden_size_2': 400,\n",
    "    'hidden_size_3': 30,\n",
    "    'num_classes': len(np.unique(labels)),\n",
    "}\n",
    "\n",
    "num_epochs = 30\n",
    "batch_size = 500\n",
    "learning_rate_adam = 0.001\n",
    "learning_rate_SGD = 0.01\n",
    "val_size = 0.2"
   ]
  },
  {
   "cell_type": "code",
   "execution_count": 7,
   "metadata": {},
   "outputs": [],
   "source": [
    "from torch.utils.data import DataLoader\n",
    "\n",
    "train_loader = DataLoader(\n",
    "    dataset=train_dataset, \n",
    "    batch_size=batch_size,\n",
    "    sampler=train_sampler)\n",
    "val_loader = DataLoader(\n",
    "    dataset=train_dataset, \n",
    "    batch_size=batch_size,\n",
    "    sampler=val_sampler)\n",
    "test_loader = DataLoader(\n",
    "    dataset=test_dataset, \n",
    "    batch_size=batch_size)"
   ]
  },
  {
   "cell_type": "code",
   "execution_count": 8,
   "metadata": {},
   "outputs": [],
   "source": [
    "# Accuracy metrics\n",
    "def accuracy(output, labels):\n",
    "    _, preds = torch.max(output, dim = 1)\n",
    "    \n",
    "    return torch.sum(preds == labels).item() / len(preds)"
   ]
  },
  {
   "cell_type": "code",
   "execution_count": 9,
   "metadata": {},
   "outputs": [],
   "source": [
    "class NeuralNet(nn.Module):\n",
    "    def __init__(self, input_size, hidden_size_1, hidden_size_2, hidden_size_3, num_classes, early_stop_count=3):\n",
    "        super(NeuralNet, self).__init__()\n",
    "        # Input\n",
    "        self.input_size = input_size\n",
    "        self.input_layer = nn.Linear(input_size, hidden_size_1) \n",
    "        # Activation\n",
    "        self.relu = nn.ReLU()\n",
    "        # Hidden Layers\n",
    "        self.l1 = nn.Linear(hidden_size_1, hidden_size_2)\n",
    "        self.l2 = nn.Linear(hidden_size_2, hidden_size_3)\n",
    "        # Output\n",
    "        self.output = nn.Linear(hidden_size_3, num_classes)\n",
    "        \n",
    "        # Early stop\n",
    "        self.eval_loss = None\n",
    "        self.early_stop_count = early_stop_count\n",
    "        self.stop_counter = 0\n",
    "    \n",
    "    def forward(self, input):\n",
    "        out = self.input_layer(input)\n",
    "        out = self.relu(out)\n",
    "        out = self.l1(out)\n",
    "        out = self.relu(out)\n",
    "        out = self.l2(out)\n",
    "        out = self.relu(out)\n",
    "\n",
    "        return self.output(out)\n",
    "    \n",
    "    def fit(self, loader, num_epochs, criterion, optimizer, scheduler, val_loader):\n",
    "        # Train the model\n",
    "        losses, val_losses = [], []\n",
    "        train_acc, val_acc = [], []\n",
    "\n",
    "        for epoch in range(1, num_epochs + 1):\n",
    "            e_loss, e_val_loss = [], []\n",
    "            e_train_acc, e_val_acc = [], []\n",
    "\n",
    "            for images, labels in loader:\n",
    "                self.train()\n",
    "\n",
    "                # Forward pass\n",
    "                loss, outputs = self.forward_pass(images, labels, criterion)\n",
    "                \n",
    "                # Backward and optimize\n",
    "                self.optimizer_step(optimizer, loss)\n",
    "                \n",
    "                # Metrics\n",
    "                e_loss.append(loss.item())\n",
    "                e_train_acc.append(accuracy(outputs, labels))\n",
    "            \n",
    "            scheduler.step()\n",
    "            \n",
    "            for images, labels in val_loader:\n",
    "                self.eval()\n",
    "                \n",
    "                loss, outputs = self.forward_pass(images, labels, criterion)\n",
    "                \n",
    "                # Metrics\n",
    "                e_val_loss.append(loss.item())\n",
    "                e_val_acc.append(accuracy(outputs, labels))\n",
    "            \n",
    "            v_loss = sum(e_val_loss) / len(e_val_loss)\n",
    "\n",
    "            self.update_eval(v_loss)\n",
    "\n",
    "            losses.append(sum(e_loss) / len(e_loss))\n",
    "            val_losses.append(v_loss)\n",
    "            \n",
    "            train_acc.append(sum(e_train_acc) / len(e_train_acc))\n",
    "            val_acc.append(sum(e_val_acc) / len(e_val_acc))\n",
    "            \n",
    "            if model.early_stop:\n",
    "                print(f'No increase in validation loss since epoch {epoch - model.early_stop_count}\\nStopping Traing')\n",
    "                break\n",
    "\n",
    "            print (f'Epoch [{epoch}/{num_epochs}], train_loss: {losses[-1]:.4f}, val_loss {val_losses[-1]:.4f}, val_acc {val_acc[-1]:.2f}')\n",
    "\n",
    "        return pd.DataFrame(list(zip(losses, val_losses, train_acc, val_acc)), columns=['train_loss', 'val_loss', 'train_acc', 'val_acc'])\n",
    "    \n",
    "\n",
    "    @staticmethod\n",
    "    def optimizer_step(optimizer, loss):\n",
    "        optimizer.zero_grad()\n",
    "        loss.backward()\n",
    "        optimizer.step()\n",
    "\n",
    "    def forward_pass(self, x, y, criterion):\n",
    "        features = x.reshape(-1, 28*28).to(device)\n",
    "        y = y.to(device)\n",
    "        outputs = self(features)\n",
    "        loss = criterion(outputs, y)\n",
    "\n",
    "        return loss, outputs\n",
    "\n",
    "    def update_eval(self, eval_loss):\n",
    "        if not self.eval_loss:\n",
    "            self.eval_loss = eval_loss\n",
    "        elif eval_loss < self.eval_loss:\n",
    "            self.stop_counter = 0\n",
    "            self.eval_loss = eval_loss\n",
    "            torch.save(self.state_dict(), os.path.join('./data/torch_models/', 'best.pth'))\n",
    "        else:\n",
    "            self.stop_counter += 1\n",
    "    \n",
    "    @property\n",
    "    def early_stop(self):\n",
    "        return self.stop_counter >= self.early_stop_count"
   ]
  },
  {
   "cell_type": "code",
   "execution_count": 10,
   "metadata": {},
   "outputs": [
    {
     "name": "stdout",
     "output_type": "stream",
     "text": [
      "Epoch [1/30], train_loss: 0.6533, val_loss 0.2614, val_acc 0.92\n",
      "Epoch [2/30], train_loss: 0.2202, val_loss 0.1871, val_acc 0.95\n",
      "Epoch [3/30], train_loss: 0.1562, val_loss 0.1608, val_acc 0.95\n",
      "Epoch [4/30], train_loss: 0.1253, val_loss 0.1295, val_acc 0.96\n",
      "Epoch [5/30], train_loss: 0.1004, val_loss 0.1087, val_acc 0.97\n",
      "Epoch [6/30], train_loss: 0.0838, val_loss 0.1010, val_acc 0.97\n",
      "Epoch [7/30], train_loss: 0.0699, val_loss 0.0940, val_acc 0.97\n",
      "Epoch [8/30], train_loss: 0.0595, val_loss 0.0923, val_acc 0.97\n",
      "Epoch [9/30], train_loss: 0.0523, val_loss 0.0900, val_acc 0.97\n",
      "Epoch [10/30], train_loss: 0.0459, val_loss 0.0831, val_acc 0.98\n",
      "Epoch [11/30], train_loss: 0.0391, val_loss 0.0814, val_acc 0.98\n",
      "Epoch [12/30], train_loss: 0.0341, val_loss 0.0812, val_acc 0.98\n",
      "Epoch [13/30], train_loss: 0.0307, val_loss 0.0822, val_acc 0.98\n",
      "Epoch [14/30], train_loss: 0.0276, val_loss 0.0812, val_acc 0.98\n",
      "Epoch [15/30], train_loss: 0.0244, val_loss 0.0791, val_acc 0.98\n",
      "Epoch [16/30], train_loss: 0.0219, val_loss 0.0775, val_acc 0.98\n",
      "Epoch [17/30], train_loss: 0.0199, val_loss 0.0770, val_acc 0.98\n",
      "Epoch [18/30], train_loss: 0.0185, val_loss 0.0793, val_acc 0.98\n",
      "Epoch [19/30], train_loss: 0.0169, val_loss 0.0797, val_acc 0.98\n",
      "No increase in validation loss since epoch 17\n",
      "Stopping Traing\n"
     ]
    }
   ],
   "source": [
    "from torch.optim.lr_scheduler import ExponentialLR\n",
    "\n",
    "model = NeuralNet(**model_setting).to(device)\n",
    "\n",
    "# Loss and optimizer\n",
    "criterion = nn.CrossEntropyLoss()\n",
    "optimizer = torch.optim.Adam(model.parameters(), lr=learning_rate_adam)  \n",
    "scheduler = ExponentialLR(optimizer, gamma=0.9)\n",
    "\n",
    "history = model.fit(train_loader, num_epochs, criterion, optimizer, scheduler, val_loader=val_loader)"
   ]
  },
  {
   "cell_type": "code",
   "execution_count": 11,
   "metadata": {},
   "outputs": [
    {
     "data": {
      "text/plain": [
       "Text(0.5, 1.0, 'Accuracy')"
      ]
     },
     "execution_count": 11,
     "metadata": {},
     "output_type": "execute_result"
    },
    {
     "data": {
      "image/png": "[encoded data removed]",
      "text/plain": [
       "<Figure size 1440x360 with 2 Axes>"
      ]
     },
     "metadata": {
      "needs_background": "light"
     },
     "output_type": "display_data"
    }
   ],
   "source": [
    "_, axs = plt.subplots(1, 2, figsize=(20, 5))\n",
    "\n",
    "sns.lineplot(x=range(1, len(history) + 1), y='train_loss', ax=axs[0], label='train', data=history)\n",
    "sns.lineplot(x=range(1, len(history) + 1), y='val_loss', ax=axs[0], label='validation', data=history)\n",
    "axs[0].set_title('Losses')\n",
    "sns.lineplot(x=range(1, len(history) + 1), y='train_acc', ax=axs[1], label='train', data=history)\n",
    "sns.lineplot(x=range(1, len(history) + 1), y='val_acc', ax=axs[1], label='validation', data=history)\n",
    "axs[1].set_title('Accuracy')\n"
   ]
  },
  {
   "cell_type": "code",
   "execution_count": 12,
   "metadata": {},
   "outputs": [
    {
     "name": "stdout",
     "output_type": "stream",
     "text": [
      "Accuracy of the network on the 10000 test images: 97.72 %\n"
     ]
    }
   ],
   "source": [
    "# Test the model\n",
    "# In test phase, we don't need to compute gradients (for memory efficiency)\n",
    "\n",
    "with torch.no_grad():\n",
    "    \n",
    "    model = NeuralNet(**model_setting).to(device)\n",
    "    model.load_state_dict(torch.load('data/torch_models/best.pth'))\n",
    "\n",
    "    n_correct = 0\n",
    "    n_samples = 0\n",
    "    for images, labels in test_loader:\n",
    "        images = images.reshape(-1, 28*28).to(device)\n",
    "        labels = labels.to(device)\n",
    "        outputs = model(images)\n",
    "        # max returns (value ,index)\n",
    "        _, predicted = torch.max(outputs.data, 1)\n",
    "        n_samples += labels.size(0)\n",
    "        n_correct += (predicted == labels).sum().item()\n",
    "\n",
    "    acc = 100.0 * n_correct / n_samples\n",
    "    print(f'Accuracy of the network on the 10000 test images: {acc} %')"
   ]
  },
  {
   "cell_type": "markdown",
   "metadata": {},
   "source": [
    "Compare train / eval-loss for two different optimizers. Adam & SGD\n",
    "include learning rate scheduler"
   ]
  },
  {
   "cell_type": "code",
   "execution_count": 13,
   "metadata": {},
   "outputs": [
    {
     "name": "stdout",
     "output_type": "stream",
     "text": [
      "Epoch [1/30], train_loss: 2.2444, val_loss 2.0627, val_acc 0.39\n",
      "Epoch [2/30], train_loss: 1.3841, val_loss 0.7486, val_acc 0.77\n",
      "Epoch [3/30], train_loss: 0.5863, val_loss 0.4745, val_acc 0.86\n",
      "Epoch [4/30], train_loss: 0.4381, val_loss 0.3934, val_acc 0.89\n",
      "Epoch [5/30], train_loss: 0.3762, val_loss 0.3508, val_acc 0.90\n",
      "Epoch [6/30], train_loss: 0.3365, val_loss 0.3174, val_acc 0.91\n",
      "Epoch [7/30], train_loss: 0.3091, val_loss 0.2971, val_acc 0.91\n",
      "Epoch [8/30], train_loss: 0.2871, val_loss 0.2799, val_acc 0.92\n",
      "Epoch [9/30], train_loss: 0.2706, val_loss 0.2663, val_acc 0.92\n",
      "Epoch [10/30], train_loss: 0.2558, val_loss 0.2526, val_acc 0.93\n",
      "Epoch [11/30], train_loss: 0.2437, val_loss 0.2444, val_acc 0.93\n",
      "Epoch [12/30], train_loss: 0.2340, val_loss 0.2368, val_acc 0.93\n",
      "Epoch [13/30], train_loss: 0.2247, val_loss 0.2280, val_acc 0.94\n",
      "Epoch [14/30], train_loss: 0.2176, val_loss 0.2216, val_acc 0.94\n",
      "Epoch [15/30], train_loss: 0.2108, val_loss 0.2176, val_acc 0.94\n",
      "Epoch [16/30], train_loss: 0.2054, val_loss 0.2133, val_acc 0.94\n",
      "Epoch [17/30], train_loss: 0.2009, val_loss 0.2093, val_acc 0.94\n",
      "Epoch [18/30], train_loss: 0.1968, val_loss 0.2049, val_acc 0.94\n",
      "Epoch [19/30], train_loss: 0.1928, val_loss 0.2023, val_acc 0.94\n",
      "Epoch [20/30], train_loss: 0.1895, val_loss 0.2001, val_acc 0.94\n",
      "Epoch [21/30], train_loss: 0.1871, val_loss 0.1971, val_acc 0.94\n",
      "Epoch [22/30], train_loss: 0.1844, val_loss 0.1952, val_acc 0.94\n",
      "Epoch [23/30], train_loss: 0.1823, val_loss 0.1941, val_acc 0.94\n",
      "Epoch [24/30], train_loss: 0.1804, val_loss 0.1918, val_acc 0.94\n",
      "Epoch [25/30], train_loss: 0.1788, val_loss 0.1901, val_acc 0.94\n",
      "Epoch [26/30], train_loss: 0.1772, val_loss 0.1888, val_acc 0.95\n",
      "Epoch [27/30], train_loss: 0.1757, val_loss 0.1880, val_acc 0.95\n",
      "Epoch [28/30], train_loss: 0.1746, val_loss 0.1870, val_acc 0.95\n",
      "Epoch [29/30], train_loss: 0.1736, val_loss 0.1862, val_acc 0.95\n",
      "Epoch [30/30], train_loss: 0.1726, val_loss 0.1851, val_acc 0.95\n"
     ]
    }
   ],
   "source": [
    "model = NeuralNet(**model_setting).to(device)\n",
    "\n",
    "# Loss and optimizer\n",
    "criterion = nn.CrossEntropyLoss()\n",
    "optimizer = torch.optim.SGD(model.parameters(), lr=learning_rate_SGD, momentum=0.9)  \n",
    "scheduler = ExponentialLR(optimizer, gamma=0.9)\n",
    "\n",
    "history_SGD = model.fit(train_loader, num_epochs, criterion, optimizer, scheduler, val_loader)"
   ]
  },
  {
   "cell_type": "code",
   "execution_count": 15,
   "metadata": {},
   "outputs": [
    {
     "data": {
      "text/plain": [
       "Text(0.5, 1.0, 'Validation')"
      ]
     },
     "execution_count": 15,
     "metadata": {},
     "output_type": "execute_result"
    },
    {
     "data": {
      "image/png": "[encoded data removed]",
      "text/plain": [
       "<Figure size 1440x360 with 2 Axes>"
      ]
     },
     "metadata": {
      "needs_background": "light"
     },
     "output_type": "display_data"
    }
   ],
   "source": [
    "_, axs = plt.subplots(1, 2, figsize=(20, 5))\n",
    "\n",
    "sns.lineplot(x=range(1, len(history) + 1), y='train_loss', ax=axs[0], label='Adam', data=history)\n",
    "sns.lineplot(x=range(1, len(history_SGD) + 1), y='train_loss', ax=axs[0], label='SGD', data=history_SGD)\n",
    "axs[0].set_title('Train')\n",
    "\n",
    "sns.lineplot(x=range(1, len(history) + 1), y='val_loss', ax=axs[1], label='Adam', data=history)\n",
    "sns.lineplot(x=range(1, len(history) + 1), y='val_loss', ax=axs[1], label='SGD', data=history_SGD)\n",
    "axs[1].set_title('Validation')"
   ]
  },
  {
   "cell_type": "code",
   "execution_count": 36,
   "metadata": {},
   "outputs": [
    {
     "data": {
      "text/plain": [
       "<AxesSubplot:>"
      ]
     },
     "execution_count": 36,
     "metadata": {},
     "output_type": "execute_result"
    },
    {
     "data": {
      "image/png": "[encoded data removed]",
      "text/plain": [
       "<Figure size 432x288 with 2 Axes>"
      ]
     },
     "metadata": {
      "needs_background": "light"
     },
     "output_type": "display_data"
    }
   ],
   "source": [
    "from sklearn.metrics import confusion_matrix\n",
    "\n",
    "pred = []\n",
    "y_true = []\n",
    "with torch.no_grad():\n",
    "    \n",
    "    for images, labels in test_loader:\n",
    "        images = images.reshape(-1, 28*28).to(device)\n",
    "        outputs = model(images)\n",
    "\n",
    "        _, predicted = torch.max(outputs.data, 1)\n",
    "\n",
    "        for p, y in zip(predicted, labels):\n",
    "            pred.append(p.item())\n",
    "            y_true.append(y.item())\n",
    "\n",
    "sns.heatmap(confusion_matrix(y_true, pred), annot=True, cmap='Blues', fmt=\".0f\")"
   ]
  },
  {
   "cell_type": "code",
   "execution_count": 51,
   "metadata": {},
   "outputs": [
    {
     "name": "stdout",
     "output_type": "stream",
     "text": [
      "Training model with batch size 2\n",
      "Epoch [1/1], train_loss: 2.3099, val_loss 2.3099, val_acc 0.10\n",
      "Training model with batch size 4\n",
      "Epoch [1/1], train_loss: 2.3086, val_loss 2.3080, val_acc 0.09\n",
      "Training model with batch size 8\n",
      "Epoch [1/1], train_loss: 2.3134, val_loss 2.3132, val_acc 0.09\n",
      "Training model with batch size 16\n",
      "Epoch [1/1], train_loss: 2.3047, val_loss 2.3058, val_acc 0.11\n",
      "Training model with batch size 32\n",
      "Epoch [1/1], train_loss: 2.3077, val_loss 2.3083, val_acc 0.10\n"
     ]
    },
    {
     "data": {
      "text/plain": [
       "<AxesSubplot:>"
      ]
     },
     "execution_count": 51,
     "metadata": {},
     "output_type": "execute_result"
    },
    {
     "data": {
      "image/png": "[encoded data removed]",
      "text/plain": [
       "<Figure size 432x288 with 1 Axes>"
      ]
     },
     "metadata": {
      "needs_background": "light"
     },
     "output_type": "display_data"
    }
   ],
   "source": [
    "import time\n",
    "\n",
    "batch_sizes = [2, 4, 8, 16, 32]  \n",
    "\n",
    "loaders = [[DataLoader(dataset=train_dataset, batch_size=b_s, sampler=train_sampler), DataLoader(dataset=train_dataset, batch_size=b_s, sampler=val_sampler)] for b_s in batch_sizes]\n",
    "\n",
    "# Loss and optimizer\n",
    "criterion = nn.CrossEntropyLoss()\n",
    "optimizer = torch.optim.Adam(model.parameters(), lr=learning_rate_adam)  \n",
    "scheduler = ExponentialLR(optimizer, gamma=0.9)\n",
    "\n",
    "elapsed_time = []\n",
    "for i, (train_loader, val_loader) in enumerate(loaders):\n",
    "\n",
    "    model = NeuralNet(**model_setting).to(device)\n",
    "    start = time.time()\n",
    "    print(f'Training model with batch size {batch_sizes[i]}')\n",
    "    model.fit(train_loader, 1, criterion, optimizer, scheduler, val_loader)\n",
    "    end = time.time()\n",
    "    elapsed_time.append(end-start)\n",
    "\n",
    "sns.lineplot(x=batch_sizes, y=elapsed_time)\n"
   ]
  }
 ],
 "metadata": {
  "interpreter": {
   "hash": "0023218274ff8d0f3995c4f9f4d490f0a5ce03e0fb4bd8b4cf661d572e46eb28"
  },
  "kernelspec": {
   "display_name": "Python 3.9.4 64-bit ('venv': venv)",
   "language": "python",
   "name": "python3"
  },
  "language_info": {
   "codemirror_mode": {
    "name": "ipython",
    "version": 3
   },
   "file_extension": ".py",
   "mimetype": "text/x-python",
   "name": "python",
   "nbconvert_exporter": "python",
   "pygments_lexer": "ipython3",
   "version": "3.9.4"
  },
  "orig_nbformat": 4
 },
 "nbformat": 4,
 "nbformat_minor": 2
}
