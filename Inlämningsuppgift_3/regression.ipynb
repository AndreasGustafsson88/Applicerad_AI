{
 "cells": [
  {
   "cell_type": "markdown",
   "metadata": {},
   "source": [
    "Regression feedforward network"
   ]
  },
  {
   "cell_type": "code",
   "execution_count": 1,
   "metadata": {},
   "outputs": [],
   "source": [
    "import torch\n",
    "import torch.nn as nn\n",
    "import seaborn as sns\n",
    "import pandas as pd\n",
    "import os\n",
    "import numpy as np"
   ]
  },
  {
   "cell_type": "code",
   "execution_count": 2,
   "metadata": {},
   "outputs": [
    {
     "data": {
      "text/html": [
       "<div>\n",
       "<style scoped>\n",
       "    .dataframe tbody tr th:only-of-type {\n",
       "        vertical-align: middle;\n",
       "    }\n",
       "\n",
       "    .dataframe tbody tr th {\n",
       "        vertical-align: top;\n",
       "    }\n",
       "\n",
       "    .dataframe thead th {\n",
       "        text-align: right;\n",
       "    }\n",
       "</style>\n",
       "<table border=\"1\" class=\"dataframe\">\n",
       "  <thead>\n",
       "    <tr style=\"text-align: right;\">\n",
       "      <th></th>\n",
       "      <th>0</th>\n",
       "      <th>1</th>\n",
       "      <th>2</th>\n",
       "      <th>3</th>\n",
       "      <th>4</th>\n",
       "      <th>5</th>\n",
       "      <th>6</th>\n",
       "      <th>7</th>\n",
       "      <th>8</th>\n",
       "      <th>9</th>\n",
       "      <th>10</th>\n",
       "      <th>11</th>\n",
       "      <th>12</th>\n",
       "      <th>13</th>\n",
       "    </tr>\n",
       "  </thead>\n",
       "  <tbody>\n",
       "    <tr>\n",
       "      <th>0</th>\n",
       "      <td>0.00632</td>\n",
       "      <td>18.0</td>\n",
       "      <td>2.31</td>\n",
       "      <td>0</td>\n",
       "      <td>0.538</td>\n",
       "      <td>6.575</td>\n",
       "      <td>65.2</td>\n",
       "      <td>4.0900</td>\n",
       "      <td>1</td>\n",
       "      <td>296.0</td>\n",
       "      <td>15.3</td>\n",
       "      <td>396.90</td>\n",
       "      <td>4.98</td>\n",
       "      <td>24.0</td>\n",
       "    </tr>\n",
       "    <tr>\n",
       "      <th>1</th>\n",
       "      <td>0.02731</td>\n",
       "      <td>0.0</td>\n",
       "      <td>7.07</td>\n",
       "      <td>0</td>\n",
       "      <td>0.469</td>\n",
       "      <td>6.421</td>\n",
       "      <td>78.9</td>\n",
       "      <td>4.9671</td>\n",
       "      <td>2</td>\n",
       "      <td>242.0</td>\n",
       "      <td>17.8</td>\n",
       "      <td>396.90</td>\n",
       "      <td>9.14</td>\n",
       "      <td>21.6</td>\n",
       "    </tr>\n",
       "    <tr>\n",
       "      <th>2</th>\n",
       "      <td>0.02729</td>\n",
       "      <td>0.0</td>\n",
       "      <td>7.07</td>\n",
       "      <td>0</td>\n",
       "      <td>0.469</td>\n",
       "      <td>7.185</td>\n",
       "      <td>61.1</td>\n",
       "      <td>4.9671</td>\n",
       "      <td>2</td>\n",
       "      <td>242.0</td>\n",
       "      <td>17.8</td>\n",
       "      <td>392.83</td>\n",
       "      <td>4.03</td>\n",
       "      <td>34.7</td>\n",
       "    </tr>\n",
       "    <tr>\n",
       "      <th>3</th>\n",
       "      <td>0.03237</td>\n",
       "      <td>0.0</td>\n",
       "      <td>2.18</td>\n",
       "      <td>0</td>\n",
       "      <td>0.458</td>\n",
       "      <td>6.998</td>\n",
       "      <td>45.8</td>\n",
       "      <td>6.0622</td>\n",
       "      <td>3</td>\n",
       "      <td>222.0</td>\n",
       "      <td>18.7</td>\n",
       "      <td>394.63</td>\n",
       "      <td>2.94</td>\n",
       "      <td>33.4</td>\n",
       "    </tr>\n",
       "    <tr>\n",
       "      <th>4</th>\n",
       "      <td>0.06905</td>\n",
       "      <td>0.0</td>\n",
       "      <td>2.18</td>\n",
       "      <td>0</td>\n",
       "      <td>0.458</td>\n",
       "      <td>7.147</td>\n",
       "      <td>54.2</td>\n",
       "      <td>6.0622</td>\n",
       "      <td>3</td>\n",
       "      <td>222.0</td>\n",
       "      <td>18.7</td>\n",
       "      <td>396.90</td>\n",
       "      <td>5.33</td>\n",
       "      <td>36.2</td>\n",
       "    </tr>\n",
       "  </tbody>\n",
       "</table>\n",
       "</div>"
      ],
      "text/plain": [
       "        0     1     2   3      4      5     6       7   8      9     10  \\\n",
       "0  0.00632  18.0  2.31   0  0.538  6.575  65.2  4.0900   1  296.0  15.3   \n",
       "1  0.02731   0.0  7.07   0  0.469  6.421  78.9  4.9671   2  242.0  17.8   \n",
       "2  0.02729   0.0  7.07   0  0.469  7.185  61.1  4.9671   2  242.0  17.8   \n",
       "3  0.03237   0.0  2.18   0  0.458  6.998  45.8  6.0622   3  222.0  18.7   \n",
       "4  0.06905   0.0  2.18   0  0.458  7.147  54.2  6.0622   3  222.0  18.7   \n",
       "\n",
       "       11    12    13  \n",
       "0  396.90  4.98  24.0  \n",
       "1  396.90  9.14  21.6  \n",
       "2  392.83  4.03  34.7  \n",
       "3  394.63  2.94  33.4  \n",
       "4  396.90  5.33  36.2  "
      ]
     },
     "execution_count": 2,
     "metadata": {},
     "output_type": "execute_result"
    }
   ],
   "source": [
    "FILE = './data/housing.csv'\n",
    "df = pd.read_csv(FILE, header=None, delim_whitespace=True)\n",
    "df.head(5)"
   ]
  },
  {
   "cell_type": "code",
   "execution_count": 3,
   "metadata": {},
   "outputs": [],
   "source": [
    "from sklearn.model_selection import train_test_split\n",
    "from sklearn.preprocessing import MinMaxScaler\n",
    "\n",
    "# Device configuration\n",
    "device = torch.device('cuda' if torch.cuda.is_available() else 'cpu')\n",
    "\n",
    "# Get x, y train / val / test\n",
    "X, Y = df.iloc[:,:-1], df.iloc[:, -1]\n",
    "x_train, x_test, y_train, y_test = train_test_split(X, Y, shuffle=True, random_state=42, test_size=33)\n",
    "x_train, x_val, y_train, y_val = train_test_split(x_train, y_train, shuffle=True, random_state=42, test_size=20)\n",
    "\n",
    "# Initate Scaler\n",
    "scaler_x, scaler_y = MinMaxScaler(), MinMaxScaler()\n",
    "scaler_x.fit(x_train)\n",
    "scaler_y.fit(y_train.values.reshape(-1, 1))\n",
    "\n",
    "model_settings = {\n",
    "    'input_size': x_train.shape[1],  # n_features\n",
    "    'hidden_size_1': 32,\n",
    "    'hidden_size_2': 16,\n",
    "    'output_size': 1,\n",
    "}\n",
    "\n",
    "# Hyper-parameters \n",
    "num_epochs = 30\n",
    "batch_size = 8\n",
    "learning_rate = 0.001\n"
   ]
  },
  {
   "cell_type": "code",
   "execution_count": 4,
   "metadata": {},
   "outputs": [],
   "source": [
    "from torch.utils.data import Dataset\n",
    "\n",
    "class MyDataset(Dataset):\n",
    " \n",
    "  def __init__(self,x, y, scaler_x, scaler_y):\n",
    "    self.x_train=torch.tensor(scaler_x.transform(x.values), dtype=torch.float32)\n",
    "    self.y_train=torch.tensor(scaler_y.transform(y.values.reshape(-1, 1)), dtype=torch.float32)\n",
    " \n",
    "  def __len__(self):\n",
    "    return len(self.y_train)\n",
    "   \n",
    "  def __getitem__(self,idx):\n",
    "    return self.x_train[idx],self.y_train[idx]"
   ]
  },
  {
   "cell_type": "code",
   "execution_count": 5,
   "metadata": {},
   "outputs": [],
   "source": [
    "from torch.utils.data import DataLoader\n",
    "torch.manual_seed(1)\n",
    "\n",
    "train_dataset = MyDataset(x_train, y_train, scaler_x, scaler_y)\n",
    "val_dataset = MyDataset(x_val, y_val, scaler_x, scaler_y)\n",
    "test_dataset = MyDataset(x_test, y_test, scaler_x, scaler_y)\n",
    "\n",
    "train_loader = DataLoader(\n",
    "    dataset=train_dataset, \n",
    "    batch_size=batch_size, \n",
    "    shuffle=True)\n",
    "val_loader = DataLoader(\n",
    "    dataset=val_dataset, \n",
    "    batch_size=batch_size, \n",
    "    shuffle=True)\n",
    "test_loader = DataLoader(\n",
    "    dataset=test_dataset, \n",
    "    batch_size=batch_size, \n",
    "    shuffle=True)"
   ]
  },
  {
   "cell_type": "code",
   "execution_count": 6,
   "metadata": {},
   "outputs": [],
   "source": [
    "class HousePredictor(nn.Module):\n",
    "    def __init__(self, input_size, hidden_size_1, hidden_size_2, output_size, early_stop_count=3):\n",
    "        super(HousePredictor, self).__init__()\n",
    "        # Input\n",
    "        self.input_size = input_size\n",
    "        self.input_layer = nn.Linear(input_size, hidden_size_1)\n",
    "        # Activiation\n",
    "        self.relu = nn.ReLU()\n",
    "        # Hidden Layers\n",
    "        self.l1 = nn.Linear(hidden_size_1, hidden_size_2)\n",
    "        # Output\n",
    "        self.output = nn.Linear(hidden_size_2, output_size)\n",
    "        # Dropout\n",
    "        self.dropout = nn.Dropout()\n",
    "        # Early stop\n",
    "        self.eval_loss = None\n",
    "        self.early_stop_count = early_stop_count\n",
    "        self.stop_counter = 0\n",
    "\n",
    "    def forward(self, input):\n",
    "        out = self.input_layer(input)\n",
    "        out = self.relu(out)\n",
    "        out = self.l1(out)\n",
    "        out = self.relu(out)\n",
    "        out = self.dropout(out)\n",
    "        \n",
    "        return self.output(out)\n",
    "    \n",
    "    @staticmethod\n",
    "    def optimizer_step(optimizer, loss):\n",
    "        optimizer.zero_grad()\n",
    "        loss.backward()\n",
    "        optimizer.step()\n",
    "\n",
    "    def get_loss(self, x, y, criterion):\n",
    "        features = x.to(device)\n",
    "        y = y.to(device)\n",
    "        outputs = self(features)\n",
    "        loss = criterion(outputs, y)\n",
    "\n",
    "        return loss\n",
    "\n",
    "    def update_eval(self, eval_loss):\n",
    "        if not self.eval_loss:\n",
    "            self.eval_loss = eval_loss\n",
    "        elif eval_loss < self.eval_loss:\n",
    "            self.stop_counter = 0\n",
    "            self.eval_loss = eval_loss\n",
    "            torch.save(self.state_dict(), os.path.join('./data/torch_models/', 'best_regression.pth'))\n",
    "        else:\n",
    "            self.stop_counter += 1\n",
    "    \n",
    "    @property\n",
    "    def early_stop(self):\n",
    "        return self.stop_counter >= self.early_stop_count\n",
    "    "
   ]
  },
  {
   "cell_type": "code",
   "execution_count": 7,
   "metadata": {},
   "outputs": [],
   "source": [
    "model = HousePredictor(**model_settings).to(device)"
   ]
  },
  {
   "cell_type": "code",
   "execution_count": 8,
   "metadata": {},
   "outputs": [],
   "source": [
    "criterion = nn.MSELoss()\n",
    "optimizer = torch.optim.Adam(model.parameters(), lr=learning_rate)"
   ]
  },
  {
   "cell_type": "code",
   "execution_count": 9,
   "metadata": {},
   "outputs": [
    {
     "name": "stdout",
     "output_type": "stream",
     "text": [
      "Epoch [1/30], Step [10/56.625], Loss: 0.1605\n",
      "Epoch [1/30], Step [20/56.625], Loss: 0.0236\n",
      "Epoch [1/30], Step [30/56.625], Loss: 0.0196\n",
      "Epoch [1/30], Step [40/56.625], Loss: 0.0766\n",
      "Epoch [1/30], Step [50/56.625], Loss: 0.0266\n",
      "Epoch [2/30], Step [10/56.625], Loss: 0.0813\n",
      "Epoch [2/30], Step [20/56.625], Loss: 0.0074\n",
      "Epoch [2/30], Step [30/56.625], Loss: 0.0546\n",
      "Epoch [2/30], Step [40/56.625], Loss: 0.0097\n",
      "Epoch [2/30], Step [50/56.625], Loss: 0.1604\n",
      "Epoch [3/30], Step [10/56.625], Loss: 0.0192\n",
      "Epoch [3/30], Step [20/56.625], Loss: 0.0898\n",
      "Epoch [3/30], Step [30/56.625], Loss: 0.0464\n",
      "Epoch [3/30], Step [40/56.625], Loss: 0.0286\n",
      "Epoch [3/30], Step [50/56.625], Loss: 0.0315\n",
      "Epoch [4/30], Step [10/56.625], Loss: 0.0453\n",
      "Epoch [4/30], Step [20/56.625], Loss: 0.0390\n",
      "Epoch [4/30], Step [30/56.625], Loss: 0.0049\n",
      "Epoch [4/30], Step [40/56.625], Loss: 0.0234\n",
      "Epoch [4/30], Step [50/56.625], Loss: 0.0102\n",
      "Epoch [5/30], Step [10/56.625], Loss: 0.0063\n",
      "Epoch [5/30], Step [20/56.625], Loss: 0.0344\n",
      "Epoch [5/30], Step [30/56.625], Loss: 0.0063\n",
      "Epoch [5/30], Step [40/56.625], Loss: 0.0255\n",
      "Epoch [5/30], Step [50/56.625], Loss: 0.0257\n",
      "Epoch [6/30], Step [10/56.625], Loss: 0.0073\n",
      "Epoch [6/30], Step [20/56.625], Loss: 0.0190\n",
      "Epoch [6/30], Step [30/56.625], Loss: 0.0104\n",
      "Epoch [6/30], Step [40/56.625], Loss: 0.0325\n",
      "Epoch [6/30], Step [50/56.625], Loss: 0.0456\n",
      "Epoch [7/30], Step [10/56.625], Loss: 0.0121\n",
      "Epoch [7/30], Step [20/56.625], Loss: 0.0094\n",
      "Epoch [7/30], Step [30/56.625], Loss: 0.0102\n",
      "Epoch [7/30], Step [40/56.625], Loss: 0.0110\n",
      "Epoch [7/30], Step [50/56.625], Loss: 0.0113\n",
      "Epoch [8/30], Step [10/56.625], Loss: 0.0187\n",
      "Epoch [8/30], Step [20/56.625], Loss: 0.0074\n",
      "Epoch [8/30], Step [30/56.625], Loss: 0.0114\n",
      "Epoch [8/30], Step [40/56.625], Loss: 0.0091\n",
      "Epoch [8/30], Step [50/56.625], Loss: 0.0094\n",
      "Epoch [9/30], Step [10/56.625], Loss: 0.0393\n",
      "Epoch [9/30], Step [20/56.625], Loss: 0.0019\n",
      "Epoch [9/30], Step [30/56.625], Loss: 0.0287\n",
      "Epoch [9/30], Step [40/56.625], Loss: 0.0078\n",
      "Epoch [9/30], Step [50/56.625], Loss: 0.0058\n",
      "Epoch [10/30], Step [10/56.625], Loss: 0.0127\n",
      "Epoch [10/30], Step [20/56.625], Loss: 0.0688\n",
      "Epoch [10/30], Step [30/56.625], Loss: 0.0118\n",
      "Epoch [10/30], Step [40/56.625], Loss: 0.1256\n",
      "Epoch [10/30], Step [50/56.625], Loss: 0.0268\n",
      "No increase in validation loss since epoch 7\n",
      "Stopping Traing\n"
     ]
    }
   ],
   "source": [
    "n_total_steps = len(x_train) / batch_size\n",
    "\n",
    "losses, val_losses = [], []\n",
    "\n",
    "for epoch in range(1, num_epochs +1):\n",
    "    e_loss, e_val_loss = [], []\n",
    "    for i, (x, y) in enumerate(train_loader, 1):\n",
    "        model.train()\n",
    "\n",
    "        # Forward pass\n",
    "        loss = model.get_loss(x, y, criterion)\n",
    "        e_loss.append(loss.item())\n",
    "\n",
    "        # Backward and optimize\n",
    "        model.optimizer_step(optimizer, loss)\n",
    "\n",
    "        if (i) % 10 == 0:\n",
    "            print (f'Epoch [{epoch}/{num_epochs}], Step [{i}/{n_total_steps}], Loss: {loss.item():.4f}')\n",
    "    \n",
    "    for i, (x_val, y_val) in enumerate(val_loader):\n",
    "        model.eval()\n",
    "        \n",
    "        loss = model.get_loss(x_val, y_val, criterion)\n",
    "        e_val_loss.append(loss.item())\n",
    "\n",
    "    val_loss = sum(e_val_loss) / len(e_val_loss)\n",
    "    \n",
    "    # Update with latest validation loss\n",
    "    model.update_eval(val_loss)\n",
    "\n",
    "    val_losses.append(val_loss)\n",
    "    losses.append(sum(e_loss) / len(e_loss))\n",
    "    \n",
    "    if model.early_stop:\n",
    "        print(f'No increase in validation loss since epoch {epoch - model.early_stop_count}\\nStopping Traing')\n",
    "        break\n",
    "\n"
   ]
  },
  {
   "cell_type": "code",
   "execution_count": 10,
   "metadata": {},
   "outputs": [
    {
     "data": {
      "text/plain": [
       "<AxesSubplot:>"
      ]
     },
     "execution_count": 10,
     "metadata": {},
     "output_type": "execute_result"
    },
    {
     "data": {
      "image/png": "[encoded data removed]",
      "text/plain": [
       "<Figure size 432x288 with 1 Axes>"
      ]
     },
     "metadata": {
      "needs_background": "light"
     },
     "output_type": "display_data"
    }
   ],
   "source": [
    "sns.lineplot(x=range(1, len(losses) + 1), y=losses)\n",
    "sns.lineplot(x=range(1, len(val_losses) + 1), y=val_losses)"
   ]
  },
  {
   "cell_type": "code",
   "execution_count": 11,
   "metadata": {},
   "outputs": [],
   "source": [
    "# Test the model\n",
    "# In test phase, we don't need to compute gradients (for memory efficiency)\n",
    "with torch.no_grad():\n",
    "    \n",
    "    model = HousePredictor(**model_settings).to(device)\n",
    "    model.load_state_dict(torch.load('data/torch_models/best_regression.pth'))\n",
    "    model.eval()\n",
    "    vals =  []\n",
    " \n",
    "    for x, y in test_loader:\n",
    "        x = x.to(device)\n",
    "        y = y.to(device)\n",
    "\n",
    "        outputs = model(x)\n",
    "        \n",
    "        for v in outputs.data:\n",
    "            vals.append(v.tolist())"
   ]
  },
  {
   "cell_type": "code",
   "execution_count": 12,
   "metadata": {},
   "outputs": [],
   "source": [
    "vals = scaler_y.inverse_transform(np.array(vals).reshape(-1, 1))"
   ]
  },
  {
   "cell_type": "code",
   "execution_count": 13,
   "metadata": {},
   "outputs": [
    {
     "data": {
      "text/plain": [
       "<AxesSubplot:>"
      ]
     },
     "execution_count": 13,
     "metadata": {},
     "output_type": "execute_result"
    },
    {
     "data": {
      "image/png": "[encoded data removed]",
      "text/plain": [
       "<Figure size 432x288 with 1 Axes>"
      ]
     },
     "metadata": {
      "needs_background": "light"
     },
     "output_type": "display_data"
    }
   ],
   "source": [
    "sns.lineplot(x=range(len(vals)), y=vals.flatten(), label='pred')\n",
    "sns.lineplot(x=range(len(y_test)), y=y_test.values, label='True')"
   ]
  }
 ],
 "metadata": {
  "interpreter": {
   "hash": "0023218274ff8d0f3995c4f9f4d490f0a5ce03e0fb4bd8b4cf661d572e46eb28"
  },
  "kernelspec": {
   "display_name": "Python 3.9.4 64-bit ('venv': venv)",
   "language": "python",
   "name": "python3"
  },
  "language_info": {
   "codemirror_mode": {
    "name": "ipython",
    "version": 3
   },
   "file_extension": ".py",
   "mimetype": "text/x-python",
   "name": "python",
   "nbconvert_exporter": "python",
   "pygments_lexer": "ipython3",
   "version": "3.9.4"
  },
  "orig_nbformat": 4
 },
 "nbformat": 4,
 "nbformat_minor": 2
}
